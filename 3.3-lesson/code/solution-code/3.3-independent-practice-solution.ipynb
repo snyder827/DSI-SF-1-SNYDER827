{
 "cells": [
  {
   "cell_type": "markdown",
   "metadata": {},
   "source": [
    "### Independent practice\n",
    "\n",
    "Complete the questions using the distribution defined with the **dist** variable in the next cell."
   ]
  },
  {
   "cell_type": "code",
   "execution_count": 1,
   "metadata": {
    "collapsed": true
   },
   "outputs": [],
   "source": [
    "import numpy as np\n",
    "from scipy.stats import mode\n",
    "\n",
    "dist = [33.3, 8.0, 2.7, 7.0, 11.3, 10.2, 38.4, 14.7, 46.9, 6.6, 38.6, 41.1, 20.4, 19.5,\n",
    "        102.6, 111.5, 21.8, 27.0, 30.3, 9.3, 19.6, 31.1, 48.8, 8.9, 11.4, 0.6, 23.5,\n",
    "        8.0, 27.5, 69.7, 11.5, 15.5, 1.4, 7.0, 4.6, 6.0, 16.0, 17.2, 6.3, 26.2, 23.9,\n",
    "        45.9, 55.4, 100.8, 22.9, 75.5, 115.5, 58.9, 10.5, 92.6, 12.4, 102.7, 10.2, 167.6,\n",
    "        143.6, 132.3, 134.2, 39.4, 49.7, 12.0, 27.0, 1.3, 4.7, 5.0, 24.1, 21.5, 33.1,\n",
    "        45.6, 46.3, 15.8, 30.7, 15.7, 6.8, 64.6, 39.1, 2.9, 8.0, 5.4, 33.4, 40.0, 22.7,\n",
    "        24.2, 25.7, 85.0, 26.2, 3.3, 20.7, 117.4, 66.8, 44.3, 37.9, 71.8, 161.4, 45.9,\n",
    "        4.6, 6.6, 12.6, 24.4, 21.4, 33.6, 33.7, 18.8, 7.6, 36.3, 1.8, 83.2, 75.1, 71.3,\n",
    "        32.9, 30.6, 16.0, 6.9, 11.0, 9.4, 11.7, 13.8, 39.4, 4.3, 38.1, 60.1, 78.2, 49.6,\n",
    "        14.3, 8.0, 19.3, 30.8, 32.5, 29.6, 28.3, 32.4, 35.7, 36.7, 10.0, 8.5, 12.2, 22.6,\n",
    "        32.1, 25.7, 14.1, 20.9, 23.8, 29.5, 2.9, 42.3, 19.9, 47.5, 15.9, 6.0, 19.3, 38.2,\n",
    "        23.5, 2.7, 27.0, 49.9, 43.5, 31.7, 39.1, 15.1, 18.0, 33.8, 32.1, 50.7, 28.8, 11.6,\n",
    "        74.8, 16.2, 8.3, 36.3, 44.0, 15.6, 48.9, 7.3, 8.2, 29.8, 38.7, 3.9, 7.2, 5.1, 23.7,\n",
    "        48.4, 92.0, 64.3, 97.4, 99.1, 18.0, 7.1, 14.7, 47.1, 41.3, 44.2, 6.5, 44.4, 9.7,\n",
    "        15.5, 23.7, 34.5, 19.9, 58.6, 35.0, 66.1, 74.5, 45.2]"
   ]
  },
  {
   "cell_type": "markdown",
   "metadata": {},
   "source": [
    "##### Q1: Calculate the mean of dist"
   ]
  },
  {
   "cell_type": "code",
   "execution_count": 6,
   "metadata": {
    "collapsed": false
   },
   "outputs": [
    {
     "name": "stdout",
     "output_type": "stream",
     "text": [
      "33.995049505\n"
     ]
    }
   ],
   "source": [
    "dmean = np.mean(dist)\n",
    "print(dmean)"
   ]
  },
  {
   "cell_type": "markdown",
   "metadata": {},
   "source": [
    "##### Q2: Calculate the median of dist"
   ]
  },
  {
   "cell_type": "code",
   "execution_count": 8,
   "metadata": {
    "collapsed": false
   },
   "outputs": [
    {
     "name": "stdout",
     "output_type": "stream",
     "text": [
      "25.95\n"
     ]
    }
   ],
   "source": [
    "dmedian = np.median(dist)\n",
    "print(dmedian)"
   ]
  },
  {
   "cell_type": "markdown",
   "metadata": {},
   "source": [
    "##### Q3: Round the numbers of dist, then calculate the mode"
   ]
  },
  {
   "cell_type": "code",
   "execution_count": 25,
   "metadata": {
    "collapsed": true
   },
   "outputs": [],
   "source": [
    "dist_rounded = [int(round(n)) for n in dist]"
   ]
  },
  {
   "cell_type": "code",
   "execution_count": 26,
   "metadata": {
    "collapsed": false
   },
   "outputs": [
    {
     "name": "stdout",
     "output_type": "stream",
     "text": [
      "[7]\n"
     ]
    }
   ],
   "source": [
    "dmode = mode(dist_rounded)[0]\n",
    "print(dmode)"
   ]
  },
  {
   "cell_type": "markdown",
   "metadata": {},
   "source": [
    "##### Q4: Determine if dist is skewed. If so, which way? How can you tell?"
   ]
  },
  {
   "cell_type": "code",
   "execution_count": 19,
   "metadata": {
    "collapsed": false
   },
   "outputs": [
    {
     "name": "stdout",
     "output_type": "stream",
     "text": [
      "positive skewed\n"
     ]
    }
   ],
   "source": [
    "if (dmean == dmedian) and (dmedian == dmode):\n",
    "    print('symmetrical')\n",
    "\n",
    "if (dmean < dmedian) and (dmedian < dmode):\n",
    "    print('negative skewed')\n",
    "\n",
    "if (dmean > dmedian) and (dmedian > dmode):\n",
    "    print('positive skewed')"
   ]
  },
  {
   "cell_type": "markdown",
   "metadata": {},
   "source": [
    "##### Q5: Calculate the range of dist"
   ]
  },
  {
   "cell_type": "code",
   "execution_count": 21,
   "metadata": {
    "collapsed": false
   },
   "outputs": [
    {
     "name": "stdout",
     "output_type": "stream",
     "text": [
      "167.0\n"
     ]
    }
   ],
   "source": [
    "dist_sorted = sorted(dist)\n",
    "print(dist_sorted[len(dist)-1] - dist_sorted[0])"
   ]
  },
  {
   "cell_type": "markdown",
   "metadata": {},
   "source": [
    "##### Q6: Calculate the variance of dist"
   ]
  },
  {
   "cell_type": "code",
   "execution_count": 22,
   "metadata": {
    "collapsed": false
   },
   "outputs": [
    {
     "name": "stdout",
     "output_type": "stream",
     "text": [
      "957.827698265\n"
     ]
    }
   ],
   "source": [
    "var = np.var(dist)\n",
    "print(var)"
   ]
  },
  {
   "cell_type": "markdown",
   "metadata": {},
   "source": [
    "##### Q7: Calculate the standard deviation of dist. What does this tell you about the distribution of numbers?"
   ]
  },
  {
   "cell_type": "code",
   "execution_count": 23,
   "metadata": {
    "collapsed": false
   },
   "outputs": [
    {
     "name": "stdout",
     "output_type": "stream",
     "text": [
      "30.9487915477\n"
     ]
    }
   ],
   "source": [
    "std = np.std(dist)\n",
    "print(std)\n",
    "\n",
    "# The standard deviation is approximately how far, on average, numbers lie from the mean"
   ]
  },
  {
   "cell_type": "markdown",
   "metadata": {},
   "source": [
    "##### Challenge: Round the numbers of dist, and then calculate the mode of dist without using scipy!"
   ]
  },
  {
   "cell_type": "code",
   "execution_count": 5,
   "metadata": {
    "collapsed": true
   },
   "outputs": [],
   "source": [
    "# There are, as you might imagine, many ways to do this. One way to do this with the tools\n",
    "# we have learned so far is with dictionaries.\n",
    "\n",
    "# [Note: only works for unimodal distributions!]\n"
   ]
  },
  {
   "cell_type": "code",
   "execution_count": 29,
   "metadata": {
    "collapsed": false
   },
   "outputs": [
    {
     "name": "stdout",
     "output_type": "stream",
     "text": [
      "{1: 3, 2: 1, 3: 5, 132: 1, 5: 6, 6: 3, 7: 10, 8: 7, 9: 4, 10: 4, 11: 4, 12: 6, 13: 1, 14: 3, 15: 3, 16: 9, 17: 1, 18: 2, 19: 3, 20: 5, 21: 3, 22: 2, 23: 3, 24: 9, 4: 2, 26: 4, 27: 3, 28: 2, 29: 1, 30: 4, 31: 4, 32: 4, 33: 5, 34: 3, 35: 2, 36: 3, 134: 1, 38: 4, 39: 6, 168: 1, 41: 2, 42: 1, 71: 1, 44: 5, 45: 1, 46: 4, 47: 2, 48: 2, 49: 2, 50: 3, 51: 1, 55: 1, 59: 2, 60: 1, 64: 1, 65: 1, 66: 1, 67: 1, 70: 1, 161: 1, 72: 1, 75: 3, 76: 1, 78: 1, 83: 1, 85: 1, 92: 1, 93: 1, 37: 1, 144: 1, 99: 1, 101: 1, 103: 2, 97: 1, 112: 1, 40: 1, 116: 1, 117: 1}\n",
      "('mode: ', 7)\n"
     ]
    }
   ],
   "source": [
    "counts = {}\n",
    "\n",
    "for n in dist_rounded:\n",
    "    if n in counts:\n",
    "        counts[n] = counts[n] + 1\n",
    "    else:\n",
    "        counts[n] = 1\n",
    "\n",
    "print(counts)\n",
    "\n",
    "max_key = None\n",
    "max_val = 0\n",
    "for k, v in counts.items():\n",
    "    if v > max_val:\n",
    "        max_key = k\n",
    "        max_val = v\n",
    "        \n",
    "print('mode: ', max_key)"
   ]
  }
 ],
 "metadata": {
  "kernelspec": {
   "display_name": "Python 2",
   "language": "python",
   "name": "python2"
  },
  "language_info": {
   "codemirror_mode": {
    "name": "ipython",
    "version": 2
   },
   "file_extension": ".py",
   "mimetype": "text/x-python",
   "name": "python",
   "nbconvert_exporter": "python",
   "pygments_lexer": "ipython2",
   "version": "2.7.11"
  }
 },
 "nbformat": 4,
 "nbformat_minor": 0
}

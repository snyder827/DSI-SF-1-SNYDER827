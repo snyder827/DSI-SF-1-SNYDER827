{
 "cells": [
  {
   "cell_type": "code",
   "execution_count": 3,
   "metadata": {
    "collapsed": false
   },
   "outputs": [
    {
     "name": "stdout",
     "output_type": "stream",
     "text": [
      "[90 65 45 87 89 95]\n"
     ]
    }
   ],
   "source": [
    "import numpy as np \n",
    "import math \n",
    "\n",
    "# create an array\n",
    "\n",
    "array = np.array([90, 65, 45, 87, 89, 95])\n",
    "print array"
   ]
  },
  {
   "cell_type": "code",
   "execution_count": 5,
   "metadata": {
    "collapsed": false
   },
   "outputs": [
    {
     "name": "stdout",
     "output_type": "stream",
     "text": [
      "315.25\n",
      "315.25\n"
     ]
    }
   ],
   "source": [
    "# Write a function that computes the variance\n",
    "\n",
    "def variance (dist):\n",
    "    total = 0\n",
    "    for x in dist:\n",
    "        total += (x - np.mean(dist)) **2\n",
    "    return total/len(dist)\n",
    "\n",
    "# Compare your function results with numpy results\n",
    "\n",
    "print variance(array)\n",
    "print np.var(array)"
   ]
  },
  {
   "cell_type": "code",
   "execution_count": 38,
   "metadata": {
    "collapsed": false
   },
   "outputs": [
    {
     "name": "stdout",
     "output_type": "stream",
     "text": [
      "17.7552809046\n",
      "17.7552809046\n"
     ]
    }
   ],
   "source": [
    "# Write a function that computes the standard deviation and \n",
    "\n",
    "def std_dev(dist):\n",
    "    var = variance(dist)\n",
    "    return var**((1.0/2.0))\n",
    "# compare your function results with numpy equivalents. \n",
    "\n",
    "print std_dev(array)\n",
    "print np.std(array)"
   ]
  }
 ],
 "metadata": {
  "kernelspec": {
   "display_name": "Python 2",
   "language": "python",
   "name": "python2"
  },
  "language_info": {
   "codemirror_mode": {
    "name": "ipython",
    "version": 2
   },
   "file_extension": ".py",
   "mimetype": "text/x-python",
   "name": "python",
   "nbconvert_exporter": "python",
   "pygments_lexer": "ipython2",
   "version": "2.7.11"
  }
 },
 "nbformat": 4,
 "nbformat_minor": 0
}

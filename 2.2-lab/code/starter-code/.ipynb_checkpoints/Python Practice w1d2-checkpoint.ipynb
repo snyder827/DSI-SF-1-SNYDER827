{
 "cells": [
  {
   "cell_type": "code",
   "execution_count": 4,
   "metadata": {
    "collapsed": false
   },
   "outputs": [
    {
     "name": "stdout",
     "output_type": "stream",
     "text": [
      "1\n",
      "Yes\n",
      "2\n",
      "YesYes\n",
      "3\n",
      "YesYesYes\n",
      "4\n",
      "YesYesYesYes\n",
      "5\n",
      "YesYesYesYesYes\n"
     ]
    }
   ],
   "source": [
    "for count in [1, 2, 3, 4, 5]: \n",
    "    print(count) \n",
    "    print('Yes' * count) "
   ]
  },
  {
   "cell_type": "code",
   "execution_count": 9,
   "metadata": {
    "collapsed": false
   },
   "outputs": [
    {
     "name": "stdout",
     "output_type": "stream",
     "text": [
      "hello\n",
      "hello\n",
      "hello\n",
      "hello\n",
      "hello\n"
     ]
    }
   ],
   "source": [
    "for i in range (5):\n",
    "    print 'hello'"
   ]
  },
  {
   "cell_type": "code",
   "execution_count": 10,
   "metadata": {
    "collapsed": false
   },
   "outputs": [
    {
     "name": "stdout",
     "output_type": "stream",
     "text": [
      "columbia\n",
      "endeavor\n",
      "challenger\n",
      "discovery\n",
      "atlantis\n",
      "enterprise\n"
     ]
    }
   ],
   "source": [
    "shuttles = ['columbia', 'endeavor', 'challenger', 'discovery', 'atlantis', 'enterprise']\n",
    "for shuttle in shuttles:\n",
    "    print shuttle\n"
   ]
  },
  {
   "cell_type": "code",
   "execution_count": null,
   "metadata": {
    "collapsed": true
   },
   "outputs": [],
   "source": [
    "answer = \"n\"\n",
    "while answer != 'y':\n",
    "    answer = raw_input(\"Did the snake bite you yet? (y/n):\")\n",
    "    print"
   ]
  }
 ],
 "metadata": {
  "kernelspec": {
   "display_name": "Python 2",
   "language": "python",
   "name": "python2"
  },
  "language_info": {
   "codemirror_mode": {
    "name": "ipython",
    "version": 2
   },
   "file_extension": ".py",
   "mimetype": "text/x-python",
   "name": "python",
   "nbconvert_exporter": "python",
   "pygments_lexer": "ipython2",
   "version": "2.7.11"
  }
 },
 "nbformat": 4,
 "nbformat_minor": 0
}

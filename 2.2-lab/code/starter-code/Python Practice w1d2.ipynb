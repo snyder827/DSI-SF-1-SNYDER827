{
 "cells": [
  {
   "cell_type": "code",
   "execution_count": 4,
   "metadata": {
    "collapsed": false
   },
   "outputs": [
    {
     "name": "stdout",
     "output_type": "stream",
     "text": [
      "1\n",
      "Yes\n",
      "2\n",
      "YesYes\n",
      "3\n",
      "YesYesYes\n",
      "4\n",
      "YesYesYesYes\n",
      "5\n",
      "YesYesYesYesYes\n"
     ]
    }
   ],
   "source": [
    "for count in [1, 2, 3, 4, 5]: \n",
    "    print(count) \n",
    "    print('Yes' * count) "
   ]
  },
  {
   "cell_type": "code",
   "execution_count": 9,
   "metadata": {
    "collapsed": false
   },
   "outputs": [
    {
     "name": "stdout",
     "output_type": "stream",
     "text": [
      "hello\n",
      "hello\n",
      "hello\n",
      "hello\n",
      "hello\n"
     ]
    }
   ],
   "source": [
    "for i in range (5):\n",
    "    print 'hello'"
   ]
  },
  {
   "cell_type": "code",
   "execution_count": 10,
   "metadata": {
    "collapsed": false
   },
   "outputs": [
    {
     "name": "stdout",
     "output_type": "stream",
     "text": [
      "columbia\n",
      "endeavor\n",
      "challenger\n",
      "discovery\n",
      "atlantis\n",
      "enterprise\n"
     ]
    }
   ],
   "source": [
    "shuttles = ['columbia', 'endeavor', 'challenger', 'discovery', 'atlantis', 'enterprise']\n",
    "for shuttle in shuttles:\n",
    "    print shuttle\n"
   ]
  },
  {
   "cell_type": "code",
   "execution_count": 16,
   "metadata": {
    "collapsed": false
   },
   "outputs": [
    {
     "name": "stdout",
     "output_type": "stream",
     "text": [
      "Did the snake bite you yet? (y/n):n\n",
      "Keep poking!!!\n",
      "Did the snake bite you yet? (y/n):n\n",
      "Keep poking!!!\n",
      "Did the snake bite you yet? (y/n):n\n",
      "Keep poking!!!\n",
      "Did the snake bite you yet? (y/n):y\n",
      "Keep poking!!!\n",
      "Don't poke the snake dumbass!\n"
     ]
    }
   ],
   "source": [
    "answer = \"n\"\n",
    "while answer != 'y':\n",
    "    answer = raw_input(\"Did the snake bite you yet? (y/n):\")\n",
    "    print \"Keep poking!!!\"\n",
    "print \"Don't poke the snake dumbass!\""
   ]
  },
  {
   "cell_type": "code",
   "execution_count": 18,
   "metadata": {
    "collapsed": false
   },
   "outputs": [
    {
     "name": "stdout",
     "output_type": "stream",
     "text": [
      "Enter text, [type \"stop\" to quit]: HFEIFLEKJFLDJ\n",
      "hfeiflekjfldj\n",
      "Enter text, [type \"stop\" to quit]: DOIFJSOIVJ\"DSOIJ\n",
      "doifjsoivj\"dsoij\n",
      "Enter text, [type \"stop\" to quit]: SKDJf\n",
      "skdjf\n",
      "Enter text, [type \"stop\" to quit]: STOP\n",
      "stop\n",
      "Enter text, [type \"stop\" to quit]: stop\n",
      "stop\n",
      "You stopped\n"
     ]
    }
   ],
   "source": [
    "while True:\n",
    "    reply = raw_input('Enter text, [type \"stop\" to quit]: ')\n",
    "    print reply.lower()\n",
    "    if reply == 'stop':\n",
    "        break\n",
    "print \"You stopped\""
   ]
  },
  {
   "cell_type": "code",
   "execution_count": 19,
   "metadata": {
    "collapsed": false
   },
   "outputs": [
    {
     "name": "stdout",
     "output_type": "stream",
     "text": [
      "Olive\n",
      "Tucker\n",
      "Finn\n",
      "Po\n",
      "Max\n",
      "Lily\n",
      "Rascal\n"
     ]
    }
   ],
   "source": [
    "Dogs = ['Olive', 'Tucker', 'Finn', 'Po', 'Max', 'Lily', 'Rascal']\n",
    "for Dog in Dogs:\n",
    "    print Dog"
   ]
  },
  {
   "cell_type": "code",
   "execution_count": 20,
   "metadata": {
    "collapsed": false
   },
   "outputs": [
    {
     "name": "stdout",
     "output_type": "stream",
     "text": [
      "S\n",
      "u\n",
      "p\n",
      "e\n",
      "r\n",
      "c\n",
      "a\n",
      "l\n",
      "i\n",
      "f\n",
      "r\n",
      "a\n",
      "g\n",
      "i\n",
      "l\n",
      "i\n",
      "s\n",
      "t\n",
      "i\n",
      "c\n",
      "e\n",
      "x\n",
      "p\n",
      "i\n",
      "a\n",
      "l\n",
      "i\n",
      "d\n",
      "o\n",
      "c\n",
      "i\n",
      "o\n",
      "u\n",
      "s\n"
     ]
    }
   ],
   "source": [
    "word = 'Supercalifragilisticexpialidocious'\n",
    "for letter in word:\n",
    "    print letter"
   ]
  },
  {
   "cell_type": "code",
   "execution_count": 21,
   "metadata": {
    "collapsed": false
   },
   "outputs": [
    {
     "data": {
      "text/plain": [
       "'Supercalifragilisticexpialidocious'"
      ]
     },
     "execution_count": 21,
     "metadata": {},
     "output_type": "execute_result"
    }
   ],
   "source": [
    "word"
   ]
  },
  {
   "cell_type": "code",
   "execution_count": 28,
   "metadata": {
    "collapsed": false
   },
   "outputs": [
    {
     "name": "stdout",
     "output_type": "stream",
     "text": [
      "Did the snake bite you yet? (y/n):n\n",
      "Keep poking!!!\n",
      "Did the snake bite you yet? (y/n):n\n",
      "Keep poking!!!\n",
      "Did the snake bite you yet? (y/n):n\n",
      "Keep poking!!!\n",
      "Did the snake bite you yet? (y/n):n\n",
      "Keep poking!!!\n",
      "Did the snake bite you yet? (y/n):n\n",
      "Keep poking!!!\n",
      "Did the snake bite you yet? (y/n):n\n",
      "Keep poking!!!\n",
      "Did the snake bite you yet? (y/n):n\n",
      "Keep poking!!!\n",
      "Did the snake bite you yet? (y/n):n\n",
      "Keep poking!!!\n",
      "Did the snake bite you yet? (y/n):n\n",
      "Keep poking!!!\n",
      "Did the snake bite you yet? (y/n):n\n",
      "Keep poking!!!\n",
      "You poked the snake 10 times and survived.\n"
     ]
    }
   ],
   "source": [
    "answer = \"n\"\n",
    "count = 0\n",
    "while answer != 'y' and count < 10:\n",
    "    answer = raw_input(\"Did the snake bite you yet? (y/n):\")\n",
    "    count += 1\n",
    "    print \"Keep poking!!!\"\n",
    "if count == 10:\n",
    "    print \"You poked the snake 10 times and survived.\"\n",
    "else:\n",
    "    print \"Don't poke the snake dumbass!\""
   ]
  },
  {
   "cell_type": "code",
   "execution_count": null,
   "metadata": {
    "collapsed": true
   },
   "outputs": [],
   "source": []
  }
 ],
 "metadata": {
  "kernelspec": {
   "display_name": "Python 2",
   "language": "python",
   "name": "python2"
  },
  "language_info": {
   "codemirror_mode": {
    "name": "ipython",
    "version": 2
   },
   "file_extension": ".py",
   "mimetype": "text/x-python",
   "name": "python",
   "nbconvert_exporter": "python",
   "pygments_lexer": "ipython2",
   "version": "2.7.11"
  }
 },
 "nbformat": 4,
 "nbformat_minor": 0
}
